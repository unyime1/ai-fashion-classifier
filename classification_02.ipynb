{
  "nbformat": 4,
  "nbformat_minor": 0,
  "metadata": {
    "colab": {
      "name": "classification_02.ipynb",
      "provenance": [],
      "authorship_tag": "ABX9TyNJT8SINV7Qhi0Y88/iVThz",
      "include_colab_link": true
    },
    "kernelspec": {
      "name": "python3",
      "display_name": "Python 3"
    },
    "language_info": {
      "name": "python"
    },
    "accelerator": "GPU"
  },
  "cells": [
    {
      "cell_type": "markdown",
      "metadata": {
        "id": "view-in-github",
        "colab_type": "text"
      },
      "source": [
        "<a href=\"https://colab.research.google.com/github/unyime1/ai-fashion-classifier/blob/main/classification_02.ipynb\" target=\"_parent\"><img src=\"https://colab.research.google.com/assets/colab-badge.svg\" alt=\"Open In Colab\"/></a>"
      ]
    },
    {
      "cell_type": "markdown",
      "metadata": {
        "id": "wRCQJ9bJn-Vq"
      },
      "source": [
        "A deep neural network to classify items in the MINST fashion dataset\n",
        "https://github.com/zalandoresearch/fashion-mnist"
      ]
    },
    {
      "cell_type": "code",
      "metadata": {
        "id": "ZbtR__6nb00v"
      },
      "source": [
        "import tensorflow as tf\n",
        "from tensorflow.keras.datasets import fashion_mnist\n",
        "import pandas as pd\n",
        "import matplotlib.pyplot as plt\n",
        "import random"
      ],
      "execution_count": 1,
      "outputs": []
    },
    {
      "cell_type": "code",
      "metadata": {
        "colab": {
          "base_uri": "https://localhost:8080/"
        },
        "id": "c6qFGcuBjvIC",
        "outputId": "fbaa37c8-938a-43e9-c76b-0377077d2c6c"
      },
      "source": [
        "# split datasets to train and test sets\n",
        "(train_data, train_labels), (test_data, test_labels) = fashion_mnist.load_data()"
      ],
      "execution_count": 2,
      "outputs": [
        {
          "output_type": "stream",
          "name": "stdout",
          "text": [
            "Downloading data from https://storage.googleapis.com/tensorflow/tf-keras-datasets/train-labels-idx1-ubyte.gz\n",
            "32768/29515 [=================================] - 0s 0us/step\n",
            "40960/29515 [=========================================] - 0s 0us/step\n",
            "Downloading data from https://storage.googleapis.com/tensorflow/tf-keras-datasets/train-images-idx3-ubyte.gz\n",
            "26427392/26421880 [==============================] - 0s 0us/step\n",
            "26435584/26421880 [==============================] - 0s 0us/step\n",
            "Downloading data from https://storage.googleapis.com/tensorflow/tf-keras-datasets/t10k-labels-idx1-ubyte.gz\n",
            "16384/5148 [===============================================================================================] - 0s 0us/step\n",
            "Downloading data from https://storage.googleapis.com/tensorflow/tf-keras-datasets/t10k-images-idx3-ubyte.gz\n",
            "4423680/4422102 [==============================] - 0s 0us/step\n",
            "4431872/4422102 [==============================] - 0s 0us/step\n"
          ]
        }
      ]
    },
    {
      "cell_type": "code",
      "metadata": {
        "id": "o-9sX2f-pvRy"
      },
      "source": [
        "# list of classification names for indexing\n",
        "class_names = ['T-shirt/top', 'Trouser', 'Pullover', 'Dress', 'Coat', 'Sandal', 'Shirt', 'Sneaker', 'Bag', 'Ankle boot']"
      ],
      "execution_count": 3,
      "outputs": []
    },
    {
      "cell_type": "code",
      "metadata": {
        "colab": {
          "base_uri": "https://localhost:8080/"
        },
        "id": "Igfewa6alrwd",
        "outputId": "817b7dad-708c-4c0d-c9fe-753a065c6e56"
      },
      "source": [
        "# show a training sample\n",
        "print(f\"Training sample:\\n{train_data[0]}\\n\")\n",
        "print(f\"Training label:\\n{train_labels[0]}\\n\")"
      ],
      "execution_count": 4,
      "outputs": [
        {
          "output_type": "stream",
          "name": "stdout",
          "text": [
            "Training sample:\n",
            "[[  0   0   0   0   0   0   0   0   0   0   0   0   0   0   0   0   0   0\n",
            "    0   0   0   0   0   0   0   0   0   0]\n",
            " [  0   0   0   0   0   0   0   0   0   0   0   0   0   0   0   0   0   0\n",
            "    0   0   0   0   0   0   0   0   0   0]\n",
            " [  0   0   0   0   0   0   0   0   0   0   0   0   0   0   0   0   0   0\n",
            "    0   0   0   0   0   0   0   0   0   0]\n",
            " [  0   0   0   0   0   0   0   0   0   0   0   0   1   0   0  13  73   0\n",
            "    0   1   4   0   0   0   0   1   1   0]\n",
            " [  0   0   0   0   0   0   0   0   0   0   0   0   3   0  36 136 127  62\n",
            "   54   0   0   0   1   3   4   0   0   3]\n",
            " [  0   0   0   0   0   0   0   0   0   0   0   0   6   0 102 204 176 134\n",
            "  144 123  23   0   0   0   0  12  10   0]\n",
            " [  0   0   0   0   0   0   0   0   0   0   0   0   0   0 155 236 207 178\n",
            "  107 156 161 109  64  23  77 130  72  15]\n",
            " [  0   0   0   0   0   0   0   0   0   0   0   1   0  69 207 223 218 216\n",
            "  216 163 127 121 122 146 141  88 172  66]\n",
            " [  0   0   0   0   0   0   0   0   0   1   1   1   0 200 232 232 233 229\n",
            "  223 223 215 213 164 127 123 196 229   0]\n",
            " [  0   0   0   0   0   0   0   0   0   0   0   0   0 183 225 216 223 228\n",
            "  235 227 224 222 224 221 223 245 173   0]\n",
            " [  0   0   0   0   0   0   0   0   0   0   0   0   0 193 228 218 213 198\n",
            "  180 212 210 211 213 223 220 243 202   0]\n",
            " [  0   0   0   0   0   0   0   0   0   1   3   0  12 219 220 212 218 192\n",
            "  169 227 208 218 224 212 226 197 209  52]\n",
            " [  0   0   0   0   0   0   0   0   0   0   6   0  99 244 222 220 218 203\n",
            "  198 221 215 213 222 220 245 119 167  56]\n",
            " [  0   0   0   0   0   0   0   0   0   4   0   0  55 236 228 230 228 240\n",
            "  232 213 218 223 234 217 217 209  92   0]\n",
            " [  0   0   1   4   6   7   2   0   0   0   0   0 237 226 217 223 222 219\n",
            "  222 221 216 223 229 215 218 255  77   0]\n",
            " [  0   3   0   0   0   0   0   0   0  62 145 204 228 207 213 221 218 208\n",
            "  211 218 224 223 219 215 224 244 159   0]\n",
            " [  0   0   0   0  18  44  82 107 189 228 220 222 217 226 200 205 211 230\n",
            "  224 234 176 188 250 248 233 238 215   0]\n",
            " [  0  57 187 208 224 221 224 208 204 214 208 209 200 159 245 193 206 223\n",
            "  255 255 221 234 221 211 220 232 246   0]\n",
            " [  3 202 228 224 221 211 211 214 205 205 205 220 240  80 150 255 229 221\n",
            "  188 154 191 210 204 209 222 228 225   0]\n",
            " [ 98 233 198 210 222 229 229 234 249 220 194 215 217 241  65  73 106 117\n",
            "  168 219 221 215 217 223 223 224 229  29]\n",
            " [ 75 204 212 204 193 205 211 225 216 185 197 206 198 213 240 195 227 245\n",
            "  239 223 218 212 209 222 220 221 230  67]\n",
            " [ 48 203 183 194 213 197 185 190 194 192 202 214 219 221 220 236 225 216\n",
            "  199 206 186 181 177 172 181 205 206 115]\n",
            " [  0 122 219 193 179 171 183 196 204 210 213 207 211 210 200 196 194 191\n",
            "  195 191 198 192 176 156 167 177 210  92]\n",
            " [  0   0  74 189 212 191 175 172 175 181 185 188 189 188 193 198 204 209\n",
            "  210 210 211 188 188 194 192 216 170   0]\n",
            " [  2   0   0   0  66 200 222 237 239 242 246 243 244 221 220 193 191 179\n",
            "  182 182 181 176 166 168  99  58   0   0]\n",
            " [  0   0   0   0   0   0   0  40  61  44  72  41  35   0   0   0   0   0\n",
            "    0   0   0   0   0   0   0   0   0   0]\n",
            " [  0   0   0   0   0   0   0   0   0   0   0   0   0   0   0   0   0   0\n",
            "    0   0   0   0   0   0   0   0   0   0]\n",
            " [  0   0   0   0   0   0   0   0   0   0   0   0   0   0   0   0   0   0\n",
            "    0   0   0   0   0   0   0   0   0   0]]\n",
            "\n",
            "Training label:\n",
            "9\n",
            "\n"
          ]
        }
      ]
    },
    {
      "cell_type": "code",
      "metadata": {
        "colab": {
          "base_uri": "https://localhost:8080/"
        },
        "id": "i2aoqInZmzqA",
        "outputId": "9f55ec7f-6ebe-4480-c17f-65bfa94208cc"
      },
      "source": [
        "# shape of a training example\n",
        "train_data[0].shape, train_labels[0].shape"
      ],
      "execution_count": 5,
      "outputs": [
        {
          "output_type": "execute_result",
          "data": {
            "text/plain": [
              "((28, 28), ())"
            ]
          },
          "metadata": {},
          "execution_count": 5
        }
      ]
    },
    {
      "cell_type": "code",
      "metadata": {
        "colab": {
          "base_uri": "https://localhost:8080/",
          "height": 298
        },
        "id": "QCAnos7upyYs",
        "outputId": "1d14b512-8a2e-479c-e513-f483228aa9ce"
      },
      "source": [
        "# visualize training sample\n",
        "index = 9000\n",
        "plt.imshow(train_data[index], cmap=plt.cm.binary);\n",
        "plt.title(class_names[train_labels[index]])"
      ],
      "execution_count": 6,
      "outputs": [
        {
          "output_type": "execute_result",
          "data": {
            "text/plain": [
              "Text(0.5, 1.0, 'Dress')"
            ]
          },
          "metadata": {},
          "execution_count": 6
        },
        {
          "output_type": "display_data",
          "data": {
            "image/png": "[encoded data removed]",
            "text/plain": [
              "<Figure size 432x288 with 1 Axes>"
            ]
          },
          "metadata": {
            "needs_background": "light"
          }
        }
      ]
    },
    {
      "cell_type": "code",
      "metadata": {
        "id": "qIVaMJDeq8VJ"
      },
      "source": [
        "# show random images of training sample\n",
        "def get_random_data():\n",
        "  plt.figure(figsize=(7,7))\n",
        "  for i in range(4):\n",
        "    ax = plt.subplot(2, 2, i+1)\n",
        "    rand_index = random.choice(range(len(train_data)))\n",
        "    plt.imshow(train_data[rand_index], cmap=plt.cm.binary)\n",
        "    plt.title(class_names[train_labels[rand_index]])\n",
        "    plt.axis(False)"
      ],
      "execution_count": 7,
      "outputs": []
    },
    {
      "cell_type": "code",
      "metadata": {
        "colab": {
          "base_uri": "https://localhost:8080/",
          "height": 427
        },
        "id": "tXsHdEjYsktm",
        "outputId": "e4c24eca-9c6c-45df-fed4-c2db6f894625"
      },
      "source": [
        "get_random_data()"
      ],
      "execution_count": 8,
      "outputs": [
        {
          "output_type": "display_data",
          "data": {
            "image/png": "[encoded data removed]",
            "text/plain": [
              "<Figure size 504x504 with 4 Axes>"
            ]
          },
          "metadata": {
            "needs_background": "light"
          }
        }
      ]
    },
    {
      "cell_type": "markdown",
      "metadata": {
        "id": "UeO_jiaSAiwg"
      },
      "source": [
        "## Build a neural network classification model with:\n",
        "1. Input shape = 28 x 28 (the shape of MINST sample image)\n",
        "2. Output shape = 10 (corresponds to one per class of clothing)\n",
        "3. Loss Function = tf.keras.losses.CategoricalCrossentropy() if labels is onehot encoded else use SparseCategoricalCrossentropy()\n",
        "4. Output layer activation = softmax(ideal for multiclassification instead of sigmoid which is ideal for binary classification)"
      ]
    },
    {
      "cell_type": "code",
      "metadata": {
        "colab": {
          "base_uri": "https://localhost:8080/"
        },
        "id": "sV0guDLjBYLs",
        "outputId": "630f145c-8ec2-47f6-d27b-6415172a9c47"
      },
      "source": [
        "# set random seed\n",
        "tf.random.set_seed(42)\n",
        "\n",
        "# create a model\n",
        "model = tf.keras.Sequential()\n",
        "\n",
        "# add layers\n",
        "model.add(tf.keras.layers.Flatten(\n",
        "    input_shape=(28,28))),  # flatten data to linear vector\n",
        "model.add(tf.keras.layers.Dense(\n",
        "    units=4, activation=tf.keras.activations.relu))\n",
        "model.add(tf.keras.layers.Dense(\n",
        "    units=4, activation=tf.keras.activations.relu))\n",
        "model.add(tf.keras.layers.Dense(\n",
        "    units=10, activation=tf.keras.activations.softmax))\n",
        "\n",
        "# compile model\n",
        "model.compile(loss=tf.keras.losses.CategoricalCrossentropy(),\n",
        "              optimizer=tf.keras.optimizers.Adam(),\n",
        "              metrics=[\"accuracy\"])\n",
        "\n",
        "# train model on training data\n",
        "history = model.fit(\n",
        "    train_data,\n",
        "    tf.one_hot(train_labels, depth=10),\n",
        "    epochs=100,\n",
        "    validation_data=(test_data, tf.one_hot(test_labels, depth=10))\n",
        ")\n"
      ],
      "execution_count": 9,
      "outputs": [
        {
          "output_type": "stream",
          "name": "stdout",
          "text": [
            "Epoch 1/100\n",
            "1875/1875 [==============================] - 9s 3ms/step - loss: 2.1772 - accuracy: 0.1593 - val_loss: 1.8122 - val_accuracy: 0.2049\n",
            "Epoch 2/100\n",
            "1875/1875 [==============================] - 6s 3ms/step - loss: 1.7162 - accuracy: 0.2447 - val_loss: 1.6517 - val_accuracy: 0.2895\n",
            "Epoch 3/100\n",
            "1875/1875 [==============================] - 6s 3ms/step - loss: 1.6362 - accuracy: 0.2834 - val_loss: 1.6411 - val_accuracy: 0.3092\n",
            "Epoch 4/100\n",
            "1875/1875 [==============================] - 6s 3ms/step - loss: 1.6066 - accuracy: 0.2948 - val_loss: 1.6071 - val_accuracy: 0.2957\n",
            "Epoch 5/100\n",
            "1875/1875 [==============================] - 6s 3ms/step - loss: 1.6069 - accuracy: 0.3020 - val_loss: 1.5915 - val_accuracy: 0.2866\n",
            "Epoch 6/100\n",
            "1875/1875 [==============================] - 6s 3ms/step - loss: 1.5841 - accuracy: 0.3118 - val_loss: 1.5669 - val_accuracy: 0.3257\n",
            "Epoch 7/100\n",
            "1875/1875 [==============================] - 6s 3ms/step - loss: 1.5818 - accuracy: 0.3174 - val_loss: 1.5601 - val_accuracy: 0.3289\n",
            "Epoch 8/100\n",
            "1875/1875 [==============================] - 6s 3ms/step - loss: 1.5784 - accuracy: 0.3148 - val_loss: 1.5766 - val_accuracy: 0.3262\n",
            "Epoch 9/100\n",
            "1875/1875 [==============================] - 7s 3ms/step - loss: 1.5713 - accuracy: 0.3250 - val_loss: 1.5652 - val_accuracy: 0.3138\n",
            "Epoch 10/100\n",
            "1875/1875 [==============================] - 7s 3ms/step - loss: 1.5689 - accuracy: 0.3201 - val_loss: 1.5680 - val_accuracy: 0.3045\n",
            "Epoch 11/100\n",
            "1875/1875 [==============================] - 7s 3ms/step - loss: 1.5637 - accuracy: 0.3223 - val_loss: 1.5795 - val_accuracy: 0.3194\n",
            "Epoch 12/100\n",
            "1875/1875 [==============================] - 7s 3ms/step - loss: 1.5631 - accuracy: 0.3286 - val_loss: 1.5501 - val_accuracy: 0.3307\n",
            "Epoch 13/100\n",
            "1875/1875 [==============================] - 6s 3ms/step - loss: 1.5640 - accuracy: 0.3229 - val_loss: 1.5558 - val_accuracy: 0.3357\n",
            "Epoch 14/100\n",
            "1875/1875 [==============================] - 7s 4ms/step - loss: 1.5642 - accuracy: 0.3268 - val_loss: 1.5565 - val_accuracy: 0.3354\n",
            "Epoch 15/100\n",
            "1875/1875 [==============================] - 6s 3ms/step - loss: 1.5685 - accuracy: 0.3268 - val_loss: 1.5605 - val_accuracy: 0.3370\n",
            "Epoch 16/100\n",
            "1875/1875 [==============================] - 6s 3ms/step - loss: 1.5654 - accuracy: 0.3307 - val_loss: 1.5756 - val_accuracy: 0.3322\n",
            "Epoch 17/100\n",
            "1875/1875 [==============================] - 6s 3ms/step - loss: 1.5680 - accuracy: 0.3268 - val_loss: 1.5527 - val_accuracy: 0.3344\n",
            "Epoch 18/100\n",
            "1875/1875 [==============================] - 6s 3ms/step - loss: 1.5615 - accuracy: 0.3271 - val_loss: 1.5647 - val_accuracy: 0.3309\n",
            "Epoch 19/100\n",
            "1875/1875 [==============================] - 6s 3ms/step - loss: 1.5585 - accuracy: 0.3286 - val_loss: 1.5507 - val_accuracy: 0.3334\n",
            "Epoch 20/100\n",
            "1875/1875 [==============================] - 6s 3ms/step - loss: 1.5600 - accuracy: 0.3260 - val_loss: 1.5574 - val_accuracy: 0.3355\n",
            "Epoch 21/100\n",
            "1875/1875 [==============================] - 6s 3ms/step - loss: 1.5552 - accuracy: 0.3331 - val_loss: 1.5510 - val_accuracy: 0.3366\n",
            "Epoch 22/100\n",
            "1875/1875 [==============================] - 7s 4ms/step - loss: 1.5545 - accuracy: 0.3280 - val_loss: 1.5420 - val_accuracy: 0.3421\n",
            "Epoch 23/100\n",
            "1875/1875 [==============================] - 6s 3ms/step - loss: 1.5533 - accuracy: 0.3334 - val_loss: 1.5693 - val_accuracy: 0.3284\n",
            "Epoch 24/100\n",
            "1875/1875 [==============================] - 6s 3ms/step - loss: 1.5611 - accuracy: 0.3307 - val_loss: 1.5617 - val_accuracy: 0.3385\n",
            "Epoch 25/100\n",
            "1875/1875 [==============================] - 6s 3ms/step - loss: 1.5682 - accuracy: 0.3357 - val_loss: 1.5647 - val_accuracy: 0.3384\n",
            "Epoch 26/100\n",
            "1875/1875 [==============================] - 7s 4ms/step - loss: 1.5669 - accuracy: 0.3338 - val_loss: 1.5592 - val_accuracy: 0.3347\n",
            "Epoch 27/100\n",
            "1875/1875 [==============================] - 6s 3ms/step - loss: 1.5509 - accuracy: 0.3329 - val_loss: 1.5782 - val_accuracy: 0.2978\n",
            "Epoch 28/100\n",
            "1875/1875 [==============================] - 7s 4ms/step - loss: 1.5508 - accuracy: 0.3297 - val_loss: 1.5309 - val_accuracy: 0.3439\n",
            "Epoch 29/100\n",
            "1875/1875 [==============================] - 7s 3ms/step - loss: 1.5472 - accuracy: 0.3341 - val_loss: 1.5417 - val_accuracy: 0.3394\n",
            "Epoch 30/100\n",
            "1875/1875 [==============================] - 7s 4ms/step - loss: 1.5548 - accuracy: 0.3311 - val_loss: 1.5579 - val_accuracy: 0.3364\n",
            "Epoch 31/100\n",
            "1875/1875 [==============================] - 7s 3ms/step - loss: 1.5434 - accuracy: 0.3358 - val_loss: 1.5451 - val_accuracy: 0.3301\n",
            "Epoch 32/100\n",
            "1875/1875 [==============================] - 6s 3ms/step - loss: 1.5460 - accuracy: 0.3402 - val_loss: 1.5338 - val_accuracy: 0.3449\n",
            "Epoch 33/100\n",
            "1875/1875 [==============================] - 6s 3ms/step - loss: 1.5466 - accuracy: 0.3382 - val_loss: 1.5323 - val_accuracy: 0.3449\n",
            "Epoch 34/100\n",
            "1875/1875 [==============================] - 7s 3ms/step - loss: 1.5722 - accuracy: 0.3319 - val_loss: 1.5679 - val_accuracy: 0.3300\n",
            "Epoch 35/100\n",
            "1875/1875 [==============================] - 7s 4ms/step - loss: 1.5443 - accuracy: 0.3362 - val_loss: 1.5516 - val_accuracy: 0.3424\n",
            "Epoch 36/100\n",
            "1875/1875 [==============================] - 7s 3ms/step - loss: 1.5452 - accuracy: 0.3393 - val_loss: 1.5464 - val_accuracy: 0.3440\n",
            "Epoch 37/100\n",
            "1875/1875 [==============================] - 7s 4ms/step - loss: 1.5475 - accuracy: 0.3371 - val_loss: 1.5394 - val_accuracy: 0.3422\n",
            "Epoch 38/100\n",
            "1875/1875 [==============================] - 6s 3ms/step - loss: 1.5486 - accuracy: 0.3359 - val_loss: 1.5418 - val_accuracy: 0.3464\n",
            "Epoch 39/100\n",
            "1875/1875 [==============================] - 7s 4ms/step - loss: 1.5491 - accuracy: 0.3386 - val_loss: 1.5666 - val_accuracy: 0.3336\n",
            "Epoch 40/100\n",
            "1875/1875 [==============================] - 6s 3ms/step - loss: 1.5553 - accuracy: 0.3377 - val_loss: 1.5629 - val_accuracy: 0.3402\n",
            "Epoch 41/100\n",
            "1875/1875 [==============================] - 6s 3ms/step - loss: 1.5621 - accuracy: 0.3341 - val_loss: 1.5808 - val_accuracy: 0.3262\n",
            "Epoch 42/100\n",
            "1875/1875 [==============================] - 6s 3ms/step - loss: 1.5616 - accuracy: 0.3302 - val_loss: 1.5562 - val_accuracy: 0.3414\n",
            "Epoch 43/100\n",
            "1875/1875 [==============================] - 7s 3ms/step - loss: 1.5525 - accuracy: 0.3362 - val_loss: 1.5424 - val_accuracy: 0.3454\n",
            "Epoch 44/100\n",
            "1875/1875 [==============================] - 7s 3ms/step - loss: 1.5514 - accuracy: 0.3416 - val_loss: 1.5433 - val_accuracy: 0.3459\n",
            "Epoch 45/100\n",
            "1875/1875 [==============================] - 7s 3ms/step - loss: 1.5453 - accuracy: 0.3396 - val_loss: 1.5372 - val_accuracy: 0.3445\n",
            "Epoch 46/100\n",
            "1875/1875 [==============================] - 6s 3ms/step - loss: 1.5430 - accuracy: 0.3384 - val_loss: 1.5365 - val_accuracy: 0.3446\n",
            "Epoch 47/100\n",
            "1875/1875 [==============================] - 6s 3ms/step - loss: 1.5391 - accuracy: 0.3386 - val_loss: 1.5359 - val_accuracy: 0.3443\n",
            "Epoch 48/100\n",
            "1875/1875 [==============================] - 6s 3ms/step - loss: 1.5497 - accuracy: 0.3385 - val_loss: 1.5748 - val_accuracy: 0.3390\n",
            "Epoch 49/100\n",
            "1875/1875 [==============================] - 7s 4ms/step - loss: 1.5607 - accuracy: 0.3381 - val_loss: 1.5432 - val_accuracy: 0.3464\n",
            "Epoch 50/100\n",
            "1875/1875 [==============================] - 6s 3ms/step - loss: 1.5492 - accuracy: 0.3392 - val_loss: 1.5489 - val_accuracy: 0.3430\n",
            "Epoch 51/100\n",
            "1875/1875 [==============================] - 7s 3ms/step - loss: 1.5509 - accuracy: 0.3397 - val_loss: 1.5698 - val_accuracy: 0.3378\n",
            "Epoch 52/100\n",
            "1875/1875 [==============================] - 6s 3ms/step - loss: 1.5552 - accuracy: 0.3361 - val_loss: 1.5414 - val_accuracy: 0.3434\n",
            "Epoch 53/100\n",
            "1875/1875 [==============================] - 7s 4ms/step - loss: 1.5401 - accuracy: 0.3377 - val_loss: 1.5410 - val_accuracy: 0.3449\n",
            "Epoch 54/100\n",
            "1875/1875 [==============================] - 6s 3ms/step - loss: 1.5402 - accuracy: 0.3401 - val_loss: 1.5376 - val_accuracy: 0.3432\n",
            "Epoch 55/100\n",
            "1875/1875 [==============================] - 7s 4ms/step - loss: 1.5390 - accuracy: 0.3403 - val_loss: 1.5289 - val_accuracy: 0.3465\n",
            "Epoch 56/100\n",
            "1875/1875 [==============================] - 6s 3ms/step - loss: 1.5377 - accuracy: 0.3413 - val_loss: 1.5448 - val_accuracy: 0.3380\n",
            "Epoch 57/100\n",
            "1875/1875 [==============================] - 7s 3ms/step - loss: 1.5445 - accuracy: 0.3379 - val_loss: 1.5446 - val_accuracy: 0.3353\n",
            "Epoch 58/100\n",
            "1875/1875 [==============================] - 6s 3ms/step - loss: 1.5375 - accuracy: 0.3387 - val_loss: 1.5336 - val_accuracy: 0.3434\n",
            "Epoch 59/100\n",
            "1875/1875 [==============================] - 7s 3ms/step - loss: 1.5494 - accuracy: 0.3406 - val_loss: 1.5513 - val_accuracy: 0.3380\n",
            "Epoch 60/100\n",
            "1875/1875 [==============================] - 7s 4ms/step - loss: 1.5432 - accuracy: 0.3384 - val_loss: 1.5459 - val_accuracy: 0.3410\n",
            "Epoch 61/100\n",
            "1875/1875 [==============================] - 6s 3ms/step - loss: 1.5391 - accuracy: 0.3408 - val_loss: 1.5464 - val_accuracy: 0.3387\n",
            "Epoch 62/100\n",
            "1875/1875 [==============================] - 7s 3ms/step - loss: 1.5374 - accuracy: 0.3416 - val_loss: 1.5382 - val_accuracy: 0.3439\n",
            "Epoch 63/100\n",
            "1875/1875 [==============================] - 6s 3ms/step - loss: 1.5483 - accuracy: 0.3416 - val_loss: 1.5687 - val_accuracy: 0.3391\n",
            "Epoch 64/100\n",
            "1875/1875 [==============================] - 6s 3ms/step - loss: 1.5465 - accuracy: 0.3404 - val_loss: 1.5414 - val_accuracy: 0.3446\n",
            "Epoch 65/100\n",
            "1875/1875 [==============================] - 6s 3ms/step - loss: 1.5440 - accuracy: 0.3418 - val_loss: 1.5478 - val_accuracy: 0.3434\n",
            "Epoch 66/100\n",
            "1875/1875 [==============================] - 7s 4ms/step - loss: 1.5453 - accuracy: 0.3413 - val_loss: 1.5531 - val_accuracy: 0.3442\n",
            "Epoch 67/100\n",
            "1875/1875 [==============================] - 7s 3ms/step - loss: 1.5508 - accuracy: 0.3416 - val_loss: 1.5557 - val_accuracy: 0.3405\n",
            "Epoch 68/100\n",
            "1875/1875 [==============================] - 6s 3ms/step - loss: 1.5631 - accuracy: 0.3386 - val_loss: 1.5862 - val_accuracy: 0.3371\n",
            "Epoch 69/100\n",
            "1875/1875 [==============================] - 6s 3ms/step - loss: 1.5669 - accuracy: 0.3381 - val_loss: 1.5403 - val_accuracy: 0.3461\n",
            "Epoch 70/100\n",
            "1875/1875 [==============================] - 7s 4ms/step - loss: 1.5407 - accuracy: 0.3385 - val_loss: 1.5371 - val_accuracy: 0.3456\n",
            "Epoch 71/100\n",
            "1875/1875 [==============================] - 7s 3ms/step - loss: 1.5440 - accuracy: 0.3412 - val_loss: 1.5486 - val_accuracy: 0.3429\n",
            "Epoch 72/100\n",
            "1875/1875 [==============================] - 6s 3ms/step - loss: 1.5586 - accuracy: 0.3381 - val_loss: 1.5859 - val_accuracy: 0.3352\n",
            "Epoch 73/100\n",
            "1875/1875 [==============================] - 6s 3ms/step - loss: 1.5591 - accuracy: 0.3381 - val_loss: 1.5392 - val_accuracy: 0.3451\n",
            "Epoch 74/100\n",
            "1875/1875 [==============================] - 6s 3ms/step - loss: 1.5531 - accuracy: 0.3363 - val_loss: 1.5442 - val_accuracy: 0.3388\n",
            "Epoch 75/100\n",
            "1875/1875 [==============================] - 7s 4ms/step - loss: 1.5409 - accuracy: 0.3392 - val_loss: 1.5412 - val_accuracy: 0.3430\n",
            "Epoch 76/100\n",
            "1875/1875 [==============================] - 7s 3ms/step - loss: 1.5396 - accuracy: 0.3424 - val_loss: 1.5463 - val_accuracy: 0.3391\n",
            "Epoch 77/100\n",
            "1875/1875 [==============================] - 6s 3ms/step - loss: 1.5411 - accuracy: 0.3415 - val_loss: 1.5527 - val_accuracy: 0.3444\n",
            "Epoch 78/100\n",
            "1875/1875 [==============================] - 7s 4ms/step - loss: 1.5520 - accuracy: 0.3421 - val_loss: 1.5527 - val_accuracy: 0.3414\n",
            "Epoch 79/100\n",
            "1875/1875 [==============================] - 6s 3ms/step - loss: 1.5485 - accuracy: 0.3408 - val_loss: 1.5548 - val_accuracy: 0.3409\n",
            "Epoch 80/100\n",
            "1875/1875 [==============================] - 7s 4ms/step - loss: 1.5526 - accuracy: 0.3381 - val_loss: 1.5587 - val_accuracy: 0.3313\n",
            "Epoch 81/100\n",
            "1875/1875 [==============================] - 6s 3ms/step - loss: 1.5370 - accuracy: 0.3389 - val_loss: 1.5398 - val_accuracy: 0.3431\n",
            "Epoch 82/100\n",
            "1875/1875 [==============================] - 6s 3ms/step - loss: 1.5392 - accuracy: 0.3420 - val_loss: 1.5390 - val_accuracy: 0.3444\n",
            "Epoch 83/100\n",
            "1875/1875 [==============================] - 6s 3ms/step - loss: 1.5424 - accuracy: 0.3424 - val_loss: 1.5826 - val_accuracy: 0.3301\n",
            "Epoch 84/100\n",
            "1875/1875 [==============================] - 7s 4ms/step - loss: 1.5536 - accuracy: 0.3384 - val_loss: 1.5887 - val_accuracy: 0.3359\n",
            "Epoch 85/100\n",
            "1875/1875 [==============================] - 7s 4ms/step - loss: 1.5608 - accuracy: 0.3359 - val_loss: 1.5564 - val_accuracy: 0.3408\n",
            "Epoch 86/100\n",
            "1875/1875 [==============================] - 6s 3ms/step - loss: 1.5457 - accuracy: 0.3408 - val_loss: 1.5492 - val_accuracy: 0.3413\n",
            "Epoch 87/100\n",
            "1875/1875 [==============================] - 7s 4ms/step - loss: 1.5382 - accuracy: 0.3429 - val_loss: 1.5392 - val_accuracy: 0.3440\n",
            "Epoch 88/100\n",
            "1875/1875 [==============================] - 6s 3ms/step - loss: 1.5394 - accuracy: 0.3417 - val_loss: 1.5469 - val_accuracy: 0.3441\n",
            "Epoch 89/100\n",
            "1875/1875 [==============================] - 7s 4ms/step - loss: 1.5408 - accuracy: 0.3399 - val_loss: 1.5475 - val_accuracy: 0.3433\n",
            "Epoch 90/100\n",
            "1875/1875 [==============================] - 7s 4ms/step - loss: 1.5413 - accuracy: 0.3402 - val_loss: 1.5373 - val_accuracy: 0.3452\n",
            "Epoch 91/100\n",
            "1875/1875 [==============================] - 6s 3ms/step - loss: 1.5597 - accuracy: 0.3375 - val_loss: 1.5854 - val_accuracy: 0.3364\n",
            "Epoch 92/100\n",
            "1875/1875 [==============================] - 7s 4ms/step - loss: 1.5661 - accuracy: 0.3379 - val_loss: 1.5509 - val_accuracy: 0.3433\n",
            "Epoch 93/100\n",
            "1875/1875 [==============================] - 6s 3ms/step - loss: 1.5627 - accuracy: 0.3395 - val_loss: 1.5611 - val_accuracy: 0.3414\n",
            "Epoch 94/100\n",
            "1875/1875 [==============================] - 7s 4ms/step - loss: 1.5464 - accuracy: 0.3408 - val_loss: 1.5553 - val_accuracy: 0.3423\n",
            "Epoch 95/100\n",
            "1875/1875 [==============================] - 7s 4ms/step - loss: 1.5468 - accuracy: 0.3388 - val_loss: 1.5579 - val_accuracy: 0.3402\n",
            "Epoch 96/100\n",
            "1875/1875 [==============================] - 6s 3ms/step - loss: 1.5565 - accuracy: 0.3409 - val_loss: 1.5461 - val_accuracy: 0.3433\n",
            "Epoch 97/100\n",
            "1875/1875 [==============================] - 6s 3ms/step - loss: 1.5449 - accuracy: 0.3390 - val_loss: 1.5443 - val_accuracy: 0.3402\n",
            "Epoch 98/100\n",
            "1875/1875 [==============================] - 6s 3ms/step - loss: 1.5459 - accuracy: 0.3396 - val_loss: 1.5697 - val_accuracy: 0.3373\n",
            "Epoch 99/100\n",
            "1875/1875 [==============================] - 6s 3ms/step - loss: 1.5676 - accuracy: 0.3377 - val_loss: 1.5648 - val_accuracy: 0.3410\n",
            "Epoch 100/100\n",
            "1875/1875 [==============================] - 6s 3ms/step - loss: 1.5532 - accuracy: 0.3384 - val_loss: 1.5661 - val_accuracy: 0.3408\n"
          ]
        }
      ]
    },
    {
      "cell_type": "markdown",
      "metadata": {
        "id": "9DteTcXPMaOF"
      },
      "source": [
        "### Our model is currently able to classify with an accuracy of 34%. Let's see if we can improve accuracy by normalising data"
      ]
    },
    {
      "cell_type": "code",
      "metadata": {
        "colab": {
          "base_uri": "https://localhost:8080/"
        },
        "id": "gmEm88q0Myvy",
        "outputId": "3f916b82-04b4-4669-8d48-2d17e98502b7"
      },
      "source": [
        "# get the maximum and minimum values of training data\n",
        "train_data.min(), train_data.max()"
      ],
      "execution_count": 10,
      "outputs": [
        {
          "output_type": "execute_result",
          "data": {
            "text/plain": [
              "(0, 255)"
            ]
          },
          "metadata": {},
          "execution_count": 10
        }
      ]
    },
    {
      "cell_type": "code",
      "metadata": {
        "colab": {
          "base_uri": "https://localhost:8080/"
        },
        "id": "iNOPS6xtNCJN",
        "outputId": "da9620cc-8086-46ec-ea08-e7ef93600c28"
      },
      "source": [
        "# normalize data by dividing by max\n",
        "train_data_norm = train_data / 255\n",
        "test_data_norm = test_data / 255\n",
        "\n",
        "train_data_norm.min(), train_data_norm.max()"
      ],
      "execution_count": 11,
      "outputs": [
        {
          "output_type": "execute_result",
          "data": {
            "text/plain": [
              "(0.0, 1.0)"
            ]
          },
          "metadata": {},
          "execution_count": 11
        }
      ]
    },
    {
      "cell_type": "code",
      "metadata": {
        "colab": {
          "base_uri": "https://localhost:8080/"
        },
        "id": "zpNaCtCYNaJv",
        "outputId": "040a37cf-effe-4841-9ed0-67e548cead98"
      },
      "source": [
        "# create and train second model with normalised data\n",
        "# set random seed\n",
        "tf.random.set_seed(42)\n",
        "\n",
        "# create a model\n",
        "model_1 = tf.keras.Sequential()\n",
        "\n",
        "# add layers\n",
        "model_1.add(tf.keras.layers.Flatten(\n",
        "    input_shape=(28,28))),  # flatten data to linear vector\n",
        "model_1.add(tf.keras.layers.Dense(\n",
        "    units=4, activation=tf.keras.activations.relu))\n",
        "model_1.add(tf.keras.layers.Dense(\n",
        "    units=4, activation=tf.keras.activations.relu))\n",
        "model_1.add(tf.keras.layers.Dense(\n",
        "    units=10, activation=tf.keras.activations.softmax))\n",
        "\n",
        "# compile model\n",
        "model_1.compile(loss=tf.keras.losses.CategoricalCrossentropy(),\n",
        "              optimizer=tf.keras.optimizers.Adam(),\n",
        "              metrics=[\"accuracy\"])\n",
        "\n",
        "# train model on training data\n",
        "history_1 = model_1.fit(\n",
        "    train_data_norm,\n",
        "    tf.one_hot(train_labels, depth=10),\n",
        "    epochs=100,\n",
        "    validation_data=(test_data_norm, tf.one_hot(test_labels, depth=10))\n",
        ")\n"
      ],
      "execution_count": 12,
      "outputs": [
        {
          "output_type": "stream",
          "name": "stdout",
          "text": [
            "Epoch 1/100\n",
            "1875/1875 [==============================] - 7s 3ms/step - loss: 1.0348 - accuracy: 0.6474 - val_loss: 0.6937 - val_accuracy: 0.7617\n",
            "Epoch 2/100\n",
            "1875/1875 [==============================] - 7s 4ms/step - loss: 0.6376 - accuracy: 0.7757 - val_loss: 0.6400 - val_accuracy: 0.7820\n",
            "Epoch 3/100\n",
            "1875/1875 [==============================] - 7s 4ms/step - loss: 0.5942 - accuracy: 0.7914 - val_loss: 0.6247 - val_accuracy: 0.7783\n",
            "Epoch 4/100\n",
            "1875/1875 [==============================] - 6s 3ms/step - loss: 0.5750 - accuracy: 0.7979 - val_loss: 0.6078 - val_accuracy: 0.7881\n",
            "Epoch 5/100\n",
            "1875/1875 [==============================] - 6s 3ms/step - loss: 0.5641 - accuracy: 0.8006 - val_loss: 0.6169 - val_accuracy: 0.7881\n",
            "Epoch 6/100\n",
            "1875/1875 [==============================] - 6s 3ms/step - loss: 0.5544 - accuracy: 0.8043 - val_loss: 0.5855 - val_accuracy: 0.7951\n",
            "Epoch 7/100\n",
            "1875/1875 [==============================] - 6s 3ms/step - loss: 0.5488 - accuracy: 0.8063 - val_loss: 0.6097 - val_accuracy: 0.7836\n",
            "Epoch 8/100\n",
            "1875/1875 [==============================] - 7s 4ms/step - loss: 0.5428 - accuracy: 0.8077 - val_loss: 0.5787 - val_accuracy: 0.7971\n",
            "Epoch 9/100\n",
            "1875/1875 [==============================] - 6s 3ms/step - loss: 0.5373 - accuracy: 0.8097 - val_loss: 0.5698 - val_accuracy: 0.7977\n",
            "Epoch 10/100\n",
            "1875/1875 [==============================] - 6s 3ms/step - loss: 0.5360 - accuracy: 0.8124 - val_loss: 0.5658 - val_accuracy: 0.8014\n",
            "Epoch 11/100\n",
            "1875/1875 [==============================] - 6s 3ms/step - loss: 0.5311 - accuracy: 0.8130 - val_loss: 0.5714 - val_accuracy: 0.8002\n",
            "Epoch 12/100\n",
            "1875/1875 [==============================] - 6s 3ms/step - loss: 0.5284 - accuracy: 0.8132 - val_loss: 0.5626 - val_accuracy: 0.8027\n",
            "Epoch 13/100\n",
            "1875/1875 [==============================] - 6s 3ms/step - loss: 0.5271 - accuracy: 0.8138 - val_loss: 0.5619 - val_accuracy: 0.8041\n",
            "Epoch 14/100\n",
            "1875/1875 [==============================] - 6s 3ms/step - loss: 0.5249 - accuracy: 0.8143 - val_loss: 0.5718 - val_accuracy: 0.7991\n",
            "Epoch 15/100\n",
            "1875/1875 [==============================] - 7s 3ms/step - loss: 0.5231 - accuracy: 0.8148 - val_loss: 0.5706 - val_accuracy: 0.8024\n",
            "Epoch 16/100\n",
            "1875/1875 [==============================] - 6s 3ms/step - loss: 0.5203 - accuracy: 0.8162 - val_loss: 0.5731 - val_accuracy: 0.8023\n",
            "Epoch 17/100\n",
            "1875/1875 [==============================] - 6s 3ms/step - loss: 0.5191 - accuracy: 0.8176 - val_loss: 0.5594 - val_accuracy: 0.8030\n",
            "Epoch 18/100\n",
            "1875/1875 [==============================] - 6s 3ms/step - loss: 0.5176 - accuracy: 0.8157 - val_loss: 0.5582 - val_accuracy: 0.8053\n",
            "Epoch 19/100\n",
            "1875/1875 [==============================] - 7s 3ms/step - loss: 0.5156 - accuracy: 0.8169 - val_loss: 0.5644 - val_accuracy: 0.8007\n",
            "Epoch 20/100\n",
            "1875/1875 [==============================] - 7s 3ms/step - loss: 0.5146 - accuracy: 0.8177 - val_loss: 0.5660 - val_accuracy: 0.8075\n",
            "Epoch 21/100\n",
            "1875/1875 [==============================] - 7s 3ms/step - loss: 0.5125 - accuracy: 0.8197 - val_loss: 0.5684 - val_accuracy: 0.8004\n",
            "Epoch 22/100\n",
            "1875/1875 [==============================] - 7s 4ms/step - loss: 0.5112 - accuracy: 0.8180 - val_loss: 0.5666 - val_accuracy: 0.8029\n",
            "Epoch 23/100\n",
            "1875/1875 [==============================] - 7s 4ms/step - loss: 0.5105 - accuracy: 0.8195 - val_loss: 0.5570 - val_accuracy: 0.8068\n",
            "Epoch 24/100\n",
            "1875/1875 [==============================] - 7s 4ms/step - loss: 0.5101 - accuracy: 0.8177 - val_loss: 0.5565 - val_accuracy: 0.8076\n",
            "Epoch 25/100\n",
            "1875/1875 [==============================] - 7s 3ms/step - loss: 0.5075 - accuracy: 0.8196 - val_loss: 0.5572 - val_accuracy: 0.8048\n",
            "Epoch 26/100\n",
            "1875/1875 [==============================] - 6s 3ms/step - loss: 0.5081 - accuracy: 0.8193 - val_loss: 0.5659 - val_accuracy: 0.8065\n",
            "Epoch 27/100\n",
            "1875/1875 [==============================] - 6s 3ms/step - loss: 0.5058 - accuracy: 0.8206 - val_loss: 0.5587 - val_accuracy: 0.8045\n",
            "Epoch 28/100\n",
            "1875/1875 [==============================] - 6s 3ms/step - loss: 0.5052 - accuracy: 0.8206 - val_loss: 0.5561 - val_accuracy: 0.8077\n",
            "Epoch 29/100\n",
            "1875/1875 [==============================] - 7s 4ms/step - loss: 0.5050 - accuracy: 0.8205 - val_loss: 0.5664 - val_accuracy: 0.8054\n",
            "Epoch 30/100\n",
            "1875/1875 [==============================] - 6s 3ms/step - loss: 0.5024 - accuracy: 0.8213 - val_loss: 0.5575 - val_accuracy: 0.8051\n",
            "Epoch 31/100\n",
            "1875/1875 [==============================] - 6s 3ms/step - loss: 0.5029 - accuracy: 0.8215 - val_loss: 0.5627 - val_accuracy: 0.8033\n",
            "Epoch 32/100\n",
            "1875/1875 [==============================] - 6s 3ms/step - loss: 0.5012 - accuracy: 0.8204 - val_loss: 0.5574 - val_accuracy: 0.8097\n",
            "Epoch 33/100\n",
            "1875/1875 [==============================] - 7s 3ms/step - loss: 0.4998 - accuracy: 0.8219 - val_loss: 0.5774 - val_accuracy: 0.8007\n",
            "Epoch 34/100\n",
            "1875/1875 [==============================] - 7s 3ms/step - loss: 0.4996 - accuracy: 0.8222 - val_loss: 0.5596 - val_accuracy: 0.8073\n",
            "Epoch 35/100\n",
            "1875/1875 [==============================] - 7s 4ms/step - loss: 0.4980 - accuracy: 0.8237 - val_loss: 0.5507 - val_accuracy: 0.8095\n",
            "Epoch 36/100\n",
            "1875/1875 [==============================] - 6s 3ms/step - loss: 0.4959 - accuracy: 0.8245 - val_loss: 0.5515 - val_accuracy: 0.8066\n",
            "Epoch 37/100\n",
            "1875/1875 [==============================] - 6s 3ms/step - loss: 0.4961 - accuracy: 0.8236 - val_loss: 0.5614 - val_accuracy: 0.8000\n",
            "Epoch 38/100\n",
            "1875/1875 [==============================] - 6s 3ms/step - loss: 0.4948 - accuracy: 0.8248 - val_loss: 0.5453 - val_accuracy: 0.8111\n",
            "Epoch 39/100\n",
            "1875/1875 [==============================] - 6s 3ms/step - loss: 0.4942 - accuracy: 0.8242 - val_loss: 0.5580 - val_accuracy: 0.8044\n",
            "Epoch 40/100\n",
            "1875/1875 [==============================] - 6s 3ms/step - loss: 0.4926 - accuracy: 0.8248 - val_loss: 0.5527 - val_accuracy: 0.8057\n",
            "Epoch 41/100\n",
            "1875/1875 [==============================] - 6s 3ms/step - loss: 0.4923 - accuracy: 0.8246 - val_loss: 0.5585 - val_accuracy: 0.8025\n",
            "Epoch 42/100\n",
            "1875/1875 [==============================] - 7s 4ms/step - loss: 0.4920 - accuracy: 0.8244 - val_loss: 0.5437 - val_accuracy: 0.8104\n",
            "Epoch 43/100\n",
            "1875/1875 [==============================] - 6s 3ms/step - loss: 0.4912 - accuracy: 0.8250 - val_loss: 0.5520 - val_accuracy: 0.8081\n",
            "Epoch 44/100\n",
            "1875/1875 [==============================] - 7s 4ms/step - loss: 0.4905 - accuracy: 0.8268 - val_loss: 0.5465 - val_accuracy: 0.8090\n",
            "Epoch 45/100\n",
            "1875/1875 [==============================] - 7s 4ms/step - loss: 0.4899 - accuracy: 0.8261 - val_loss: 0.5440 - val_accuracy: 0.8113\n",
            "Epoch 46/100\n",
            "1875/1875 [==============================] - 7s 4ms/step - loss: 0.4887 - accuracy: 0.8257 - val_loss: 0.5522 - val_accuracy: 0.8076\n",
            "Epoch 47/100\n",
            "1875/1875 [==============================] - 6s 3ms/step - loss: 0.4874 - accuracy: 0.8263 - val_loss: 0.5491 - val_accuracy: 0.8100\n",
            "Epoch 48/100\n",
            "1875/1875 [==============================] - 6s 3ms/step - loss: 0.4874 - accuracy: 0.8267 - val_loss: 0.5517 - val_accuracy: 0.8092\n",
            "Epoch 49/100\n",
            "1875/1875 [==============================] - 6s 3ms/step - loss: 0.4873 - accuracy: 0.8260 - val_loss: 0.5568 - val_accuracy: 0.8102\n",
            "Epoch 50/100\n",
            "1875/1875 [==============================] - 7s 4ms/step - loss: 0.4865 - accuracy: 0.8274 - val_loss: 0.5441 - val_accuracy: 0.8130\n",
            "Epoch 51/100\n",
            "1875/1875 [==============================] - 6s 3ms/step - loss: 0.4852 - accuracy: 0.8279 - val_loss: 0.5471 - val_accuracy: 0.8084\n",
            "Epoch 52/100\n",
            "1875/1875 [==============================] - 7s 4ms/step - loss: 0.4850 - accuracy: 0.8284 - val_loss: 0.5508 - val_accuracy: 0.8066\n",
            "Epoch 53/100\n",
            "1875/1875 [==============================] - 7s 4ms/step - loss: 0.4847 - accuracy: 0.8276 - val_loss: 0.5539 - val_accuracy: 0.8047\n",
            "Epoch 54/100\n",
            "1875/1875 [==============================] - 7s 4ms/step - loss: 0.4844 - accuracy: 0.8299 - val_loss: 0.5495 - val_accuracy: 0.8084\n",
            "Epoch 55/100\n",
            "1875/1875 [==============================] - 6s 3ms/step - loss: 0.4837 - accuracy: 0.8293 - val_loss: 0.5450 - val_accuracy: 0.8104\n",
            "Epoch 56/100\n",
            "1875/1875 [==============================] - 7s 4ms/step - loss: 0.4830 - accuracy: 0.8280 - val_loss: 0.5404 - val_accuracy: 0.8125\n",
            "Epoch 57/100\n",
            "1875/1875 [==============================] - 6s 3ms/step - loss: 0.4823 - accuracy: 0.8268 - val_loss: 0.5537 - val_accuracy: 0.8110\n",
            "Epoch 58/100\n",
            "1875/1875 [==============================] - 7s 4ms/step - loss: 0.4832 - accuracy: 0.8279 - val_loss: 0.5476 - val_accuracy: 0.8042\n",
            "Epoch 59/100\n",
            "1875/1875 [==============================] - 6s 3ms/step - loss: 0.4807 - accuracy: 0.8288 - val_loss: 0.5539 - val_accuracy: 0.8131\n",
            "Epoch 60/100\n",
            "1875/1875 [==============================] - 6s 3ms/step - loss: 0.4815 - accuracy: 0.8284 - val_loss: 0.5436 - val_accuracy: 0.8104\n",
            "Epoch 61/100\n",
            "1875/1875 [==============================] - 6s 3ms/step - loss: 0.4812 - accuracy: 0.8298 - val_loss: 0.5495 - val_accuracy: 0.8084\n",
            "Epoch 62/100\n",
            "1875/1875 [==============================] - 7s 4ms/step - loss: 0.4811 - accuracy: 0.8292 - val_loss: 0.5415 - val_accuracy: 0.8125\n",
            "Epoch 63/100\n",
            "1875/1875 [==============================] - 6s 3ms/step - loss: 0.4808 - accuracy: 0.8287 - val_loss: 0.5490 - val_accuracy: 0.8056\n",
            "Epoch 64/100\n",
            "1875/1875 [==============================] - 7s 4ms/step - loss: 0.4793 - accuracy: 0.8285 - val_loss: 0.5442 - val_accuracy: 0.8097\n",
            "Epoch 65/100\n",
            "1875/1875 [==============================] - 6s 3ms/step - loss: 0.4780 - accuracy: 0.8304 - val_loss: 0.5423 - val_accuracy: 0.8123\n",
            "Epoch 66/100\n",
            "1875/1875 [==============================] - 6s 3ms/step - loss: 0.4796 - accuracy: 0.8294 - val_loss: 0.5525 - val_accuracy: 0.8119\n",
            "Epoch 67/100\n",
            "1875/1875 [==============================] - 7s 4ms/step - loss: 0.4789 - accuracy: 0.8303 - val_loss: 0.5444 - val_accuracy: 0.8131\n",
            "Epoch 68/100\n",
            "1875/1875 [==============================] - 7s 4ms/step - loss: 0.4778 - accuracy: 0.8298 - val_loss: 0.5521 - val_accuracy: 0.8090\n",
            "Epoch 69/100\n",
            "1875/1875 [==============================] - 7s 4ms/step - loss: 0.4773 - accuracy: 0.8290 - val_loss: 0.5454 - val_accuracy: 0.8124\n",
            "Epoch 70/100\n",
            "1875/1875 [==============================] - 7s 4ms/step - loss: 0.4783 - accuracy: 0.8291 - val_loss: 0.5468 - val_accuracy: 0.8125\n",
            "Epoch 71/100\n",
            "1875/1875 [==============================] - 7s 4ms/step - loss: 0.4773 - accuracy: 0.8305 - val_loss: 0.5444 - val_accuracy: 0.8091\n",
            "Epoch 72/100\n",
            "1875/1875 [==============================] - 6s 3ms/step - loss: 0.4764 - accuracy: 0.8304 - val_loss: 0.5570 - val_accuracy: 0.8094\n",
            "Epoch 73/100\n",
            "1875/1875 [==============================] - 7s 4ms/step - loss: 0.4760 - accuracy: 0.8306 - val_loss: 0.5453 - val_accuracy: 0.8106\n",
            "Epoch 74/100\n",
            "1875/1875 [==============================] - 7s 4ms/step - loss: 0.4763 - accuracy: 0.8307 - val_loss: 0.5557 - val_accuracy: 0.8123\n",
            "Epoch 75/100\n",
            "1875/1875 [==============================] - 6s 3ms/step - loss: 0.4760 - accuracy: 0.8305 - val_loss: 0.5420 - val_accuracy: 0.8097\n",
            "Epoch 76/100\n",
            "1875/1875 [==============================] - 6s 3ms/step - loss: 0.4756 - accuracy: 0.8301 - val_loss: 0.5594 - val_accuracy: 0.8082\n",
            "Epoch 77/100\n",
            "1875/1875 [==============================] - 6s 3ms/step - loss: 0.4774 - accuracy: 0.8293 - val_loss: 0.5425 - val_accuracy: 0.8098\n",
            "Epoch 78/100\n",
            "1875/1875 [==============================] - 7s 4ms/step - loss: 0.4753 - accuracy: 0.8306 - val_loss: 0.5428 - val_accuracy: 0.8144\n",
            "Epoch 79/100\n",
            "1875/1875 [==============================] - 6s 3ms/step - loss: 0.4747 - accuracy: 0.8316 - val_loss: 0.5503 - val_accuracy: 0.8056\n",
            "Epoch 80/100\n",
            "1875/1875 [==============================] - 6s 3ms/step - loss: 0.4744 - accuracy: 0.8308 - val_loss: 0.5481 - val_accuracy: 0.8090\n",
            "Epoch 81/100\n",
            "1875/1875 [==============================] - 7s 4ms/step - loss: 0.4742 - accuracy: 0.8322 - val_loss: 0.5484 - val_accuracy: 0.8072\n",
            "Epoch 82/100\n",
            "1875/1875 [==============================] - 6s 3ms/step - loss: 0.4746 - accuracy: 0.8310 - val_loss: 0.5483 - val_accuracy: 0.8116\n",
            "Epoch 83/100\n",
            "1875/1875 [==============================] - 7s 4ms/step - loss: 0.4740 - accuracy: 0.8321 - val_loss: 0.5717 - val_accuracy: 0.7986\n",
            "Epoch 84/100\n",
            "1875/1875 [==============================] - 6s 3ms/step - loss: 0.4739 - accuracy: 0.8319 - val_loss: 0.5466 - val_accuracy: 0.8087\n",
            "Epoch 85/100\n",
            "1875/1875 [==============================] - 6s 3ms/step - loss: 0.4742 - accuracy: 0.8310 - val_loss: 0.5502 - val_accuracy: 0.8097\n",
            "Epoch 86/100\n",
            "1875/1875 [==============================] - 6s 3ms/step - loss: 0.4737 - accuracy: 0.8319 - val_loss: 0.5444 - val_accuracy: 0.8121\n",
            "Epoch 87/100\n",
            "1875/1875 [==============================] - 6s 3ms/step - loss: 0.4735 - accuracy: 0.8317 - val_loss: 0.5401 - val_accuracy: 0.8111\n",
            "Epoch 88/100\n",
            "1875/1875 [==============================] - 6s 3ms/step - loss: 0.4731 - accuracy: 0.8325 - val_loss: 0.5475 - val_accuracy: 0.8116\n",
            "Epoch 89/100\n",
            "1875/1875 [==============================] - 7s 4ms/step - loss: 0.4730 - accuracy: 0.8314 - val_loss: 0.5473 - val_accuracy: 0.8069\n",
            "Epoch 90/100\n",
            "1875/1875 [==============================] - 7s 4ms/step - loss: 0.4718 - accuracy: 0.8325 - val_loss: 0.5477 - val_accuracy: 0.8104\n",
            "Epoch 91/100\n",
            "1875/1875 [==============================] - 6s 3ms/step - loss: 0.4725 - accuracy: 0.8323 - val_loss: 0.5446 - val_accuracy: 0.8145\n",
            "Epoch 92/100\n",
            "1875/1875 [==============================] - 7s 4ms/step - loss: 0.4719 - accuracy: 0.8334 - val_loss: 0.5413 - val_accuracy: 0.8158\n",
            "Epoch 93/100\n",
            "1875/1875 [==============================] - 6s 3ms/step - loss: 0.4719 - accuracy: 0.8316 - val_loss: 0.5514 - val_accuracy: 0.8101\n",
            "Epoch 94/100\n",
            "1875/1875 [==============================] - 7s 4ms/step - loss: 0.4710 - accuracy: 0.8328 - val_loss: 0.5481 - val_accuracy: 0.8142\n",
            "Epoch 95/100\n",
            "1875/1875 [==============================] - 6s 3ms/step - loss: 0.4703 - accuracy: 0.8328 - val_loss: 0.5401 - val_accuracy: 0.8157\n",
            "Epoch 96/100\n",
            "1875/1875 [==============================] - 7s 4ms/step - loss: 0.4704 - accuracy: 0.8335 - val_loss: 0.5433 - val_accuracy: 0.8126\n",
            "Epoch 97/100\n",
            "1875/1875 [==============================] - 7s 4ms/step - loss: 0.4702 - accuracy: 0.8333 - val_loss: 0.5411 - val_accuracy: 0.8174\n",
            "Epoch 98/100\n",
            "1875/1875 [==============================] - 6s 3ms/step - loss: 0.4699 - accuracy: 0.8340 - val_loss: 0.5478 - val_accuracy: 0.8110\n",
            "Epoch 99/100\n",
            "1875/1875 [==============================] - 7s 4ms/step - loss: 0.4702 - accuracy: 0.8335 - val_loss: 0.5459 - val_accuracy: 0.8119\n",
            "Epoch 100/100\n",
            "1875/1875 [==============================] - 6s 3ms/step - loss: 0.4692 - accuracy: 0.8345 - val_loss: 0.5425 - val_accuracy: 0.8142\n"
          ]
        }
      ]
    },
    {
      "cell_type": "markdown",
      "metadata": {
        "id": "d2F6Gl1aUiNX"
      },
      "source": [
        "### Normalization of input data increases classification accuracy to 81%"
      ]
    },
    {
      "cell_type": "code",
      "metadata": {
        "id": "-W8vlG7KUrGk"
      },
      "source": [
        ""
      ],
      "execution_count": null,
      "outputs": []
    }
  ]
}